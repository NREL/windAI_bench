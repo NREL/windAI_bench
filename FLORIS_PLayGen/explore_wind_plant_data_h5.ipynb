{
 "cells": [
  {
   "cell_type": "markdown",
   "metadata": {},
   "source": [
    "## Imports and set data path"
   ]
  },
  {
   "cell_type": "code",
   "execution_count": null,
   "metadata": {},
   "outputs": [],
   "source": [
    "# Imports\n",
    "import h5py\n",
    "import numpy as np\n",
    "import pandas as pd\n",
    "\n",
    "# Set options\n",
    "pd.set_option('display.max_columns',None)\n",
    "\n",
    "# Set data path here\n",
    "data_path = 'wind_plant_data.h5'\n"
   ]
  },
  {
   "cell_type": "markdown",
   "metadata": {},
   "source": [
    "## Explore contents and architecture of .h5 data file"
   ]
  },
  {
   "attachments": {},
   "cell_type": "markdown",
   "metadata": {},
   "source": [
    "`Data Structure` <br>\n",
    "The .h5 data file is structured as follows: <br>\n",
    "\n",
    "|-- root (group, 501 members) <br>\n",
    " &emsp;&emsp;\t|-- LayoutXXX (group, 3 members) <br>\n",
    " &emsp;&emsp;\t &emsp;&emsp;\t|-- Number of Turbines (dataset) <br>\n",
    " &emsp;&emsp;\t &emsp;&emsp;\t|-- Scenarios (group, 500 members) <br>\n",
    " &emsp;&emsp;\t &emsp;&emsp;\t &emsp;&emsp;\t|-- ScenarioXXX (group, 6 members) <br>\n",
    " &emsp;&emsp;\t &emsp;&emsp;\t &emsp;&emsp;\t &emsp;&emsp;\t|-- Optimal Yaw (group, 3 members)** <br>\n",
    " &emsp;&emsp;\t &emsp;&emsp;\t &emsp;&emsp;\t &emsp;&emsp;\t &emsp;&emsp;\t|-- Turbine Power (dataset) <br>\n",
    " &emsp;&emsp;\t &emsp;&emsp;\t &emsp;&emsp;\t &emsp;&emsp;\t &emsp;&emsp;\t|-- Turbine Wind Speed (dataset) <br>\n",
    " &emsp;&emsp;\t &emsp;&emsp;\t &emsp;&emsp;\t &emsp;&emsp;\t &emsp;&emsp;\t|-- Yaw Angles (dataset) <br>\n",
    " &emsp;&emsp;\t &emsp;&emsp;\t &emsp;&emsp;\t &emsp;&emsp;\t|-- Turbine Power (dataset) <br>\n",
    " &emsp;&emsp;\t &emsp;&emsp;\t &emsp;&emsp;\t &emsp;&emsp;\t|-- Turbine Wind Speed (dataset) <br>\n",
    " &emsp;&emsp;\t &emsp;&emsp;\t &emsp;&emsp;\t &emsp;&emsp;\t|-- Turbulence Intensity (dataset) <br>\n",
    " &emsp;&emsp;\t &emsp;&emsp;\t &emsp;&emsp;\t &emsp;&emsp;\t|-- Wind Direction (dataset) <br>\n",
    " &emsp;&emsp;\t &emsp;&emsp;\t &emsp;&emsp;\t &emsp;&emsp;\t|-- Wind Speed (dataset) <br>\n",
    " &emsp;&emsp;\t &emsp;&emsp;\t &emsp;&emsp;\t &emsp;&emsp;\t|-- Yaw Angles (dataset) <br>\n",
    " &emsp;&emsp;\t &emsp;&emsp;\t|--  Turbines (group, variable number of members) <br>\n",
    " &emsp;&emsp;\t &emsp;&emsp;\t &emsp;&emsp;\t|-- TurbineXXX (group, 4 members) <br>\n",
    " &emsp;&emsp;\t &emsp;&emsp;\t &emsp;&emsp;\t &emsp;&emsp;\t|-- Hub Height (dataset) <br>\n",
    " &emsp;&emsp;\t &emsp;&emsp;\t &emsp;&emsp;\t &emsp;&emsp;\t|-- Rotor Diameter (dataset) <br>\n",
    " &emsp;&emsp;\t &emsp;&emsp;\t &emsp;&emsp;\t &emsp;&emsp;\t|-- X Location (dataset) <br>\n",
    " &emsp;&emsp;\t &emsp;&emsp;\t &emsp;&emsp;\t &emsp;&emsp;\t|-- Y Location (dataset)  <br>\n",
    " &emsp;&emsp;\t|-- One-hot Encoded (group, 2 members) <br>\n",
    " &emsp;&emsp;\t &emsp;&emsp;\t|-- 2D Representation (group, 1 member) <br>\n",
    " &emsp;&emsp;\t &emsp;&emsp;\t &emsp;&emsp;\t|-- Full 2D Array (dataset) <br>\n",
    " &emsp;&emsp;\t &emsp;&emsp;\t|-- 3D Representation (group, 2 members) <br>\n",
    " &emsp;&emsp;\t &emsp;&emsp;\t &emsp;&emsp;\t|-- Plant Level 2D Array (dataset) <br>\n",
    " &emsp;&emsp;\t &emsp;&emsp;\t &emsp;&emsp;\t|-- Turbine Level 3D Array (dataset) <br>\n",
    "\n",
    "** The Optimal Yaw group is only present in a subset of layouts/scenarios, which are identified in the opt_yaw_list.csv file."
   ]
  },
  {
   "cell_type": "code",
   "execution_count": null,
   "metadata": {},
   "outputs": [],
   "source": [
    "# Open file and print the top level group names/keys\n",
    "\n",
    "# This data set contains 500 unique wind plant layouts.\n",
    "with h5py.File(data_path, 'r') as hf:\n",
    "    layout_names = [k for k in hf.keys() if 'Layout' in k]\n",
    "    print(layout_names)\n"
   ]
  },
  {
   "cell_type": "code",
   "execution_count": null,
   "metadata": {},
   "outputs": [],
   "source": [
    "# Explore contents of LayoutXXX groups (first 3)\n",
    "\n",
    "# Each LayoutXXX Group contains 3 members: 2 groups and 1 dataset.\n",
    "# The dataset is a single int32 value representing the number of turbines in the plant layout.\n",
    "# The two groups contain (i) plant turbine details and (ii) a collection of atmospheric flow scenarios.\n",
    "with h5py.File(data_path, 'r') as hf:\n",
    "    for name in layout_names[0:3]:\n",
    "        print('-------------------------------------------------')\n",
    "        print('Group Name:', name)\n",
    "        print('Group Info:', hf[name])\n",
    "        layout_keys = list(hf[name].keys())\n",
    "        print('Group Members:')\n",
    "        for key in layout_keys:\n",
    "            print(hf[name][key])\n",
    "            if 'Dataset' in str(type(hf[name][key])):\n",
    "                print('Number of Turbines =', hf[name][key][()])\n",
    "    print('-------------------------------------------------')\n",
    "    "
   ]
  },
  {
   "cell_type": "code",
   "execution_count": null,
   "metadata": {},
   "outputs": [],
   "source": [
    "# Explore contents of /LayoutXXX/Turbines groups (first 10 members)\n",
    "\n",
    "# Each LayoutXXX/Turbines group contains a variable number of sub groups, one for each \n",
    "# of the individual turbines in the layout. In the original version of the dataset these\n",
    "# values ranged between [25-199], however this may change over time with new data added.\n",
    "with h5py.File(data_path, 'r') as hf:\n",
    "    print('Members in /Layout000/Turbines')\n",
    "    turbines_keys = list(hf['Layout000']['Turbines'].keys())\n",
    "    for key in turbines_keys[0:10]:\n",
    "        print(hf['Layout000']['Turbines'][key])\n",
    "    print('...')\n"
   ]
  },
  {
   "cell_type": "code",
   "execution_count": null,
   "metadata": {},
   "outputs": [],
   "source": [
    "# Explore contents of /LayoutXXX/Turbines/TurbineXXX groups\n",
    "\n",
    "# Each /LayoutXXX/Turbines/TurbineXXX group contains 4 datasets describing the turbine details.\n",
    "# Each dataset contains a single float32 value that represents the given turbine's:\n",
    "#       - Hub Height (m)\n",
    "#       - Rotor Diameter (m)\n",
    "#       - X Location (m)\n",
    "#       - Y Location (m)\n",
    "# Note: The wind plant center of mass is defined at the origin (0, 0)\n",
    "with h5py.File(data_path, 'r') as hf:\n",
    "    print('Members in /Layout000/Turbines/Turbine000')\n",
    "    turbineXXX_keys = list(hf['Layout000']['Turbines']['Turbine000'].keys())\n",
    "    for key in turbineXXX_keys:\n",
    "        print(hf['Layout000']['Turbines']['Turbine000'][key])\n",
    "        print(key, '=', hf['Layout000']['Turbines']['Turbine000'][key][()])\n"
   ]
  },
  {
   "cell_type": "code",
   "execution_count": null,
   "metadata": {},
   "outputs": [],
   "source": [
    "# Explore contents of /LayoutXXX/Scenarios groups\n",
    "\n",
    "# Each LayoutXXX/Scenarios group contains 500 subgroups that define randomly sampled\n",
    "# atmospheric inflow scenarios for which FLORIS was evaluated.\n",
    "with h5py.File(data_path, 'r') as hf:\n",
    "    print('Members in /Layout000/Scenarios')\n",
    "    scenarios_keys = list(hf['Layout000']['Scenarios'].keys())\n",
    "    for key in scenarios_keys[0:10]:\n",
    "        print(hf['Layout000']['Scenarios'][key])\n",
    "    print('...')\n"
   ]
  },
  {
   "cell_type": "code",
   "execution_count": null,
   "metadata": {},
   "outputs": [],
   "source": [
    "# Explore contents of /LayoutXXX/Scenarios/ScenarioXXX groups\n",
    "\n",
    "# Each /LayoutXXX/Scenarios/ScenarioXXX group contains 6 datasets: \n",
    "#       - Turbine Power: power output vector of all turbines (W) float32\n",
    "#       - Turbine Wind Speed: local wind speed vector at each turbine (m/s) float32\n",
    "#       - Turbulence Intensity: single value (%) float32\n",
    "#       - Wind Direction: single value (degrees) float32\n",
    "#       - Wind Speed: single value (m/s) float32\n",
    "#       - Yaw Angles: yaw angle vector for all turbines (degrees) float32\n",
    "# Note: some datasets contain an additional subgroup 'Optimal Yaw' containing data for the optimized yaw simulations\n",
    "with h5py.File(data_path, 'r') as hf:\n",
    "    print('Members in /Layout000/Scenarios/Scenario000')\n",
    "    scenarioXXX_keys = list(hf['Layout000']['Scenarios']['Scenario000'].keys())\n",
    "    for key in scenarioXXX_keys:\n",
    "        print(hf['Layout000']['Scenarios']['Scenario000'][key])\n"
   ]
  },
  {
   "cell_type": "code",
   "execution_count": null,
   "metadata": {},
   "outputs": [],
   "source": [
    "# For a randomly selected subset of the data (50 scenarios for 50 different layouts), yaw angles\n",
    "# were determined using FLORIS's wake steering routine that optimizes overall plant power.\n",
    "\n",
    "# The opt_yaw_list.csv file provides a list of LayoutXXX/ScenarioXXX where these wake steering cases were performed.\n",
    "opt_yaw_cases = pd.read_csv('opt_yaw_list.csv', header=None)\n",
    "\n",
    "# Explore contents of /LayoutXXX/Scenarios/ScenarioXXX/Optimal Yaw groups\n",
    "\n",
    "# For ScenarioXXXs that contain them, each 'Optimal Yaw' group contains 3 datasets:\n",
    "#       - Turbine Power: power output vector of all turbines (W) float32\n",
    "#       - Turbine Wind Speed: local wind speed vector at each turbine (m/s) float32\n",
    "#       - Yaw Angles: yaw angle vector for all turbines (degrees) float32\n",
    "# NOTE: these datasets are identical to their counterparts inside of the ScenarioXXX groups;\n",
    "#       however, these datasets are from FLORIS simulations with optimized yaw control.\n",
    "with h5py.File(data_path, 'r') as hf:\n",
    "    #for idx, opt_yaw in opt_yaw_cases.iterrows():\n",
    "    for i in range(5):\n",
    "        opt_layout, opt_scenario = opt_yaw_cases.iloc[i][0], opt_yaw_cases.iloc[i][1]\n",
    "        print('-------------------------------------------------')\n",
    "        print(opt_layout, opt_scenario)\n",
    "        for key in list(hf[opt_layout]['Scenarios'][opt_scenario]['Optimal Yaw'].keys()):\n",
    "            print(hf[opt_layout]['Scenarios'][opt_scenario]['Optimal Yaw'][key])\n",
    "    print('-------------------------------------------------')"
   ]
  },
  {
   "cell_type": "markdown",
   "metadata": {},
   "source": [
    "## Read and Load one-hot encoded data from .h5\n",
    "\n",
    "\n",
    "For convenience, we provide a one-hot encodings for the wind farm data that can more easily be loaded and processed for machine learning workflows. Below we examine these encodings to support accessibility."
   ]
  },
  {
   "cell_type": "code",
   "execution_count": null,
   "metadata": {},
   "outputs": [],
   "source": [
    "# Explore one-hot encoded data\n",
    "\n",
    "# The one-hot encoded data is contained within a separate group, label 'One-hot Encoded'.\n",
    "# Two representations are provided here: a complete 2D encoding and a paired 2D/3D encoding \n",
    "\n",
    "# In these representations all vectors that contain individual turbine data have been parsed into features/columns for each turbine\n",
    "# Additionally, index and binary / dummy columns have been added for ease of training and parsing\n",
    "with h5py.File(data_path, 'r') as hf:\n",
    "    print('Members in /One-hot Encoded group:')\n",
    "    onehot_keys = list(hf['One-hot Encoded'].keys())\n",
    "    for key in onehot_keys:\n",
    "        print(hf['One-hot Encoded'][key])\n",
    "        subkeys = list(hf['One-hot Encoded'][key].keys())\n",
    "        \n",
    "    print('-------------------------------------------------')\n",
    "    \n",
    "    print('Members in 2D Representation group:')\n",
    "    print('')\n",
    "    \n",
    "    \n",
    "    print('Columns in \"Full 2D array\":')\n",
    "    print('[layout, scenario, opt_yaw, num_turbines, hub_h, rotor_d, wind_dir, wind_speed, turbulence]', end='')\n",
    "    print('+ [t_###, t_X_###, t_Y_###, t_ws_###, t_yaw_###, t_power_###] for 0-199')\n",
    "    print(hf['One-hot Encoded']['2D Representation']['Full 2D array'])\n",
    "        \n",
    "    print('-------------------------------------------------')\n",
    "    \n",
    "    print('Members in 3D Representation group:')\n",
    "    print('')\n",
    "    \n",
    "    print([k for k in hf['One-hot Encoded']['3D Representation'].keys()])\n",
    "    print('Columns in \"Plant Level 2D array\":')\n",
    "    print('[layout, scenario, opt_yaw, num_turbines, hub_h, rotor_d, wind_dir, wind_speed, turbulence]')\n",
    "    print(hf['One-hot Encoded']['3D Representation']['Plant Level 2D array'])\n",
    "    print('')\n",
    "    \n",
    "    print('Rows in \"Turbine Level 3D array\":')\n",
    "    print('[t_###, t_X_###, t_Y_###, t_ws_###, t_yaw_###, t_power_###] for 0-199')\n",
    "    print(hf['One-hot Encoded']['3D Representation']['Turbine Level 3D array'])\n",
    "           "
   ]
  },
  {
   "cell_type": "code",
   "execution_count": null,
   "metadata": {},
   "outputs": [],
   "source": [
    "# We can convert the Full 2D array back to a pandas dataframe with column headers for exploratory data analysis\n",
    "\n",
    "column_names = ['layout', 'scenario', 'opt_yaw', 'num_turbines', 'hub_h', 'rotor_d', \n",
    "                'wind_dir', 'wind_speed', 'turbulence']\n",
    "column_template = ['t_{:03d}', 't_X_{:03d}', 't_Y_{:03d}', 't_ws_{:03d}', 't_yaw_{:03d}', 't_power_{:03d}']\n",
    "for c in column_template:\n",
    "    for i in range(200):\n",
    "        column_names.append(c.format(i))\n",
    "with h5py.File(data_path, 'r') as hf:\n",
    "    df = pd.DataFrame(data=hf['One-hot Encoded']['2D Representation']['Full 2D array'][()], columns=column_names)\n",
    "df\n"
   ]
  },
  {
   "cell_type": "code",
   "execution_count": null,
   "metadata": {},
   "outputs": [],
   "source": []
  }
 ],
 "metadata": {
  "kernelspec": {
   "display_name": "Python 3 (ipykernel)",
   "language": "python",
   "name": "python3"
  },
  "language_info": {
   "codemirror_mode": {
    "name": "ipython",
    "version": 3
   },
   "file_extension": ".py",
   "mimetype": "text/x-python",
   "name": "python",
   "nbconvert_exporter": "python",
   "pygments_lexer": "ipython3",
   "version": "3.11.4"
  }
 },
 "nbformat": 4,
 "nbformat_minor": 4
}
